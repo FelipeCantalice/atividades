{
 "cells": [
  {
   "cell_type": "markdown",
   "metadata": {},
   "source": [
    "Todo corpo em movimento possui um tipo de energia chamado de energia cinética. Para um mesmo corpo de massa m, essa energia (E) é sempre proporcional ao quadrado da velocidade (v) do corpo. Sabendo disso, qual das equações abaixo melhor representa a relação entre essas grandezas?"
   ]
  },
  {
   "cell_type": "markdown",
   "metadata": {},
   "source": [
    "$\n",
    "E = m * v^2\n",
    "$\n",
    "\n",
    " é proporcional ao quadrado de v."
   ]
  },
  {
   "cell_type": "markdown",
   "metadata": {},
   "source": [
    "-------------------------------------------------------------------------------------------------------------------------------"
   ]
  },
  {
   "cell_type": "markdown",
   "metadata": {},
   "source": [
    "Para um automóvel que se move com velocidade constante, a relação entre o seu deslocamento (Δs), a sua velocidade (v) e o período de tempo (t) decorrido é dada por:\n",
    "\n",
    "∆s = v ∙ t\n",
    "\n",
    "Sabendo disso, é possível afirmar que quanto maior for o período de tempo decorrido\n",
    "\n",
    "a) menor será o deslocamento do automóvel.\n",
    "\n",
    "\n",
    "<b>b) maior será o deslocamento do automóvel.</b>\n",
    "\n",
    "\n",
    "c) maior será a velocidade do automóvel.\n",
    "\n",
    "\n",
    "d) menor será a velocidade do automóvel."
   ]
  },
  {
   "cell_type": "markdown",
   "metadata": {},
   "source": [
    "Pela fórmula, nota-se que, se a velocidade (v) é constante, o período de tempo (t) decorrido é diretamente proporcional ao deslocamento (Δs) do automóvel. Logo, quanto maior for o período de tempo decorrido, maior será o deslocamento.m"
   ]
  },
  {
   "cell_type": "markdown",
   "metadata": {},
   "source": [
    "-------------------------------------------------------------------------------------------------------------------------------"
   ]
  },
  {
   "attachments": {},
   "cell_type": "markdown",
   "metadata": {},
   "source": [
    "A densidade de um corpo nos diz o quão “compacto”, ou “concentrado”, ele é.\n",
    "\n",
    "A relação entre a densidade (d), a massa (m) do corpo e o seu volume (V) é dada por:\n",
    "\n",
    "$$\n",
    "d = \\frac{m}{V}\n",
    "$$\n",
    "\n",
    "Quando um corpo é aquecido, o seu volume pode aumentar (o corpo pode dilatar) sem que a sua massa aumente. Esse processo altera também a sua densidade.\n",
    "\n",
    "Se um corpo que tinha uma densidade de 6 kg/L for aquecido e, ao longo da dilatação, o seu volume aumentar de 5 L pra 15 L, quanto valerá a sua densidade final?\n",
    "\n",
    "Obs: L (litro) e kg/L (quilograma por litro) são unidades de volume e densidade respectivamente. Não se preocupe com as unidades por enquanto, você as estudará em breve. Foque apenas nos valores.\n",
    "\n",
    "\n",
    "Esta resposta é única\n",
    "\n",
    "a) 1 kg/L\n",
    "\n",
    "\n",
    "b) 2 kg/L\n",
    "\n",
    "\n",
    "c) 3 kg/L\n",
    "\n",
    "\n",
    "d) 5 kg/L\n",
    "\n",
    "\n",
    "e) 6 kg/L"
   ]
  },
  {
   "cell_type": "markdown",
   "metadata": {},
   "source": [
    "Pela fórmula, nota-se que, para uma mesma massa (m), a densidade (d) é inversamente proporcional ao volume (V) do corpo.\n",
    "\n",
    "Quando o corpo dilatou, o seu volume foi de 5 L para 15 L, ou seja, triplicou. Como são grandezas inversamente proporcionais, a densidade deve ser reduzida em 3 vezes. Então:\n",
    "\n",
    " \n",
    "\n",
    "Densidade depois da dilatação = Densidade antes a dilatação/3\n",
    "\n",
    "Densidade depois da dilatação = $ \\frac{6}{3} $\n",
    "\n",
    "Densidade depois da dilatação = 2"
   ]
  },
  {
   "cell_type": "code",
   "execution_count": 3,
   "metadata": {},
   "outputs": [
    {
     "name": "stdout",
     "output_type": "stream",
     "text": [
      "30\n",
      "2.0\n"
     ]
    }
   ],
   "source": [
    "#Obs: não sei como funcionou\n",
    "d = 6\n",
    "v = 5\n",
    "m = d * v\n",
    "println(m)\n",
    "println(m / 15)\n"
   ]
  },
  {
   "cell_type": "markdown",
   "metadata": {},
   "source": [
    "-------------------------------------------------------------------------------------------------------------------------------"
   ]
  },
  {
   "cell_type": "code",
   "execution_count": null,
   "metadata": {},
   "outputs": [],
   "source": []
  },
  {
   "cell_type": "markdown",
   "metadata": {},
   "source": [
    "-------------------------------------------------------------------------------------------------------------------------------"
   ]
  }
 ],
 "metadata": {
  "kernelspec": {
   "display_name": "Julia 1.6.0",
   "language": "julia",
   "name": "julia-1.6"
  },
  "language_info": {
   "file_extension": ".jl",
   "mimetype": "application/julia",
   "name": "julia",
   "version": "1.6.0"
  }
 },
 "nbformat": 4,
 "nbformat_minor": 4
}
