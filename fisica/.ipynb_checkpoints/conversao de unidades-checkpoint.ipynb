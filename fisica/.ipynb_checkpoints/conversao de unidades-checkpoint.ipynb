{
 "cells": [
  {
   "cell_type": "markdown",
   "metadata": {},
   "source": [
    "https://www.biologiatotal.com.br/medio/fisica/exercicios/introducao-a-fisica?assunto=conversao-de-unidades&tentativa=ultima&respostas=todas"
   ]
  },
  {
   "cell_type": "markdown",
   "metadata": {},
   "source": [
    "\n",
    "1 m/s = 3,6 km/h\n",
    "\n",
    "\n"
   ]
  },
  {
   "cell_type": "markdown",
   "metadata": {},
   "source": [
    "Leia o diálogo a seguir:\n",
    "\n",
    "- O senhor será multado por dirigir acima do limite de velocidade da rodovia. \n",
    "\n",
    "- Mas, Seu Guarda, eu estava a 34 metros por segundo, de acordo com o meu hodômetro!\n",
    "\n",
    "- O limite é de 100 km/h. O senhor estava a mais de 120!\n",
    "\n",
    "Considerando que o limite de velocidade na rodovia em questão realmente seja de 100 km/h e que o motorista falou a verdade ao afirmar que estava a 34 m/s, qual das afirmações abaixo está correta?\n",
    "\n",
    "\n",
    "Dado: 1 m/s = 3,6 km/h.\n",
    "\n",
    " \n",
    "\n",
    "\n",
    "a) O motorista não deve ser multado, pois estava abaixo do limite de velocidade.\n",
    "\n",
    "\n",
    "<b>b) O motorista deve ser multado, pois estava acima do limite de velocidade.</b>\n",
    "\n",
    "\n",
    "c) O motorista não deve ser multado, pois estava exatamente no limite de velocidade.\n",
    "\n",
    "\n",
    "d) Não podemos analisar a situação, pois ambos citaram valores em diferentes unidades de medida."
   ]
  },
  {
   "cell_type": "code",
   "execution_count": 1,
   "metadata": {},
   "outputs": [
    {
     "name": "stdout",
     "output_type": "stream",
     "text": [
      "122.4\n"
     ]
    }
   ],
   "source": [
    "println(34*3.6)"
   ]
  },
  {
   "cell_type": "markdown",
   "metadata": {},
   "source": [
    "-------------------------------------------------------------------------------------------------------------------------------"
   ]
  },
  {
   "cell_type": "markdown",
   "metadata": {},
   "source": [
    "É muito comum comprarmos pacotes de alimentos “por quilo”. Essa unidade de massa, o quilograma (kg), indica que o grama, unidade básica de massa no Sistema Internacional, está sendo multiplicado por qual fator?\n",
    "\n",
    " \n",
    "\n",
    "a) $10^1$\n",
    "\n",
    "\n",
    "b) $10^2$\n",
    "\n",
    "\n",
    "<b>c) $10^3$</b>\n",
    "\n",
    "d) $10^4$\n",
    "\n",
    "\n",
    "e) $10^5$"
   ]
  },
  {
   "cell_type": "markdown",
   "metadata": {},
   "source": [
    "-------------------------------------------------------------------------------------------------------------------------------"
   ]
  },
  {
   "cell_type": "markdown",
   "metadata": {},
   "source": [
    "Hugo, José e Luiz apostaram uma corrida. Ao final do percurso, eles terminaram com as seguintes velocidades médias:\n",
    "\n",
    " \n",
    "\n",
    "Hugo: 7 km/h.\n",
    "\n",
    "José: 2,3 m/s.\n",
    "\n",
    "Luiz: 7,5 km/h.\n",
    "\n",
    "Qual alternativa indica uma <b>ordem do mais veloz para o menos veloz?</b>\n",
    "\n",
    "Dado: 1 m/s = 3,6 km/h.\n",
    "\n",
    "\n",
    "Esta resposta é única\n",
    "\n",
    "<b>a) José, Luiz, Hugo.</b>\n",
    "\n",
    "\n",
    "b) Luiz, Hugo, José.\n",
    "\n",
    "\n",
    "c) Luiz, José, Hugo.\n",
    "\n",
    "\n",
    "d) Hugo, José, Luiz.\n",
    "\n",
    "\n",
    "e) Hugo, Luiz, José."
   ]
  },
  {
   "cell_type": "code",
   "execution_count": 4,
   "metadata": {},
   "outputs": [
    {
     "name": "stdout",
     "output_type": "stream",
     "text": [
      "7, 8.28, 7.5\n"
     ]
    }
   ],
   "source": [
    "hugo = 7\n",
    "jose = 2.3 * 3.6\n",
    "luiz = 7.5\n",
    "\n",
    "println(\"$(hugo), $(jose), $(luiz)\")"
   ]
  },
  {
   "cell_type": "markdown",
   "metadata": {},
   "source": [
    "-------------------------------------------------------------------------------------------------------------------------------"
   ]
  },
  {
   "cell_type": "markdown",
   "metadata": {},
   "source": [
    "Qual dos seguintes prefixos indica que um valor no Sistema Internacional deve ser multiplicado pelo fator 10-3?\n",
    "\n",
    " \n",
    "\n",
    "\n",
    "Esta resposta é única\n",
    "\n",
    "<b>a) mili.</b>\n",
    "\n",
    "\n",
    "b) quilo.\n",
    "\n",
    "\n",
    "c) mega.\n",
    "\n",
    "\n",
    "d) micro.\n",
    "\n",
    "\n",
    "e) centi."
   ]
  },
  {
   "cell_type": "markdown",
   "metadata": {},
   "source": [
    "-------------------------------------------------------------------------------------------------------------------------------"
   ]
  },
  {
   "cell_type": "markdown",
   "metadata": {},
   "source": [
    "Um fabricante, ao calcular o volume de uma caixa, obteve o valor 5.000 cm3. No entanto, ao informar a capacidade da caixa em suas vendas, ele desejou utilizar litros ao invés de centímetros cúbicos. Qual valor o fabricante deverá informar aos compradores?\n",
    "\n",
    " \n",
    "\n",
    "Dado: 1 cm3 = 0,001 L\n",
    "\n",
    " \n",
    "\n",
    "\n",
    "Esta resposta é única\n",
    "\n",
    "a) 0,005 L.\n",
    "\n",
    "\n",
    "b) 0,05 L.\n",
    "\n",
    "\n",
    "c) 0,5 L.\n",
    "\n",
    "\n",
    "d) 5 L.\n",
    "\n",
    "\n",
    "e) 50 L."
   ]
  },
  {
   "cell_type": "markdown",
   "metadata": {},
   "source": [
    "$$ \\frac{1}{0,001} x \\frac{5000}{x} = 5L $$"
   ]
  },
  {
   "cell_type": "markdown",
   "metadata": {},
   "source": [
    "-------------------------------------------------------------------------------------------------------------------------------"
   ]
  },
  {
   "cell_type": "markdown",
   "metadata": {},
   "source": [
    "Ao se consultar com seu nutricionista, um estudante de física foi instruído a seguir uma dieta de 1.500 calorias diárias. Durante as aulas, o estudante havia aprendido recentemente que caloria é uma unidade de energia, assim como o joule. Ao lembrar disso, decidiu calcular quanto deveria consumir, em joules, seguindo a dieta indicada por seu nutricionista. Qual valor o estudante obteve?\n",
    "\n",
    "Dado: 1 cal = 4,2 J\n",
    "\n",
    "a) 6,3 J.\n",
    "\n",
    "\n",
    "b) 63 J.\n",
    "\n",
    "\n",
    "c) 630 J.\n",
    "\n",
    "\n",
    "d) 6.300 J.\n",
    "\n",
    "\n",
    "e) 63.000 J."
   ]
  },
  {
   "cell_type": "markdown",
   "metadata": {},
   "source": [
    "$$ \\frac{1}{4,2} * \\frac{1500}{y} = 6.300 J  $$"
   ]
  },
  {
   "cell_type": "markdown",
   "metadata": {},
   "source": [
    "-------------------------------------------------------------------------------------------------------------------------------"
   ]
  },
  {
   "cell_type": "markdown",
   "metadata": {},
   "source": [
    "Denis chegou nos Estados Unidos em um dia quente de verão. Ao sair na rua, viu que um termômetro indicava uma temperatura de 98,6 ºF. Como não estava familiarizado com essa unidade de medida, Denis decidiu converter o valor para Celsius, unidade em que estava mais acostumado. Qual foi o valor obtido por Denis?\n",
    "\n",
    "$$ \\frac{T_C}{5} = \\frac{T_F\\ -\\ 32}{9} $$\n",
    " \n",
    "Esta resposta é única\n",
    "\n",
    "a) 34 ºC.\n",
    "\n",
    "\n",
    "b) 35 ºC.\n",
    "\n",
    "\n",
    "c) 36 ºC.\n",
    "\n",
    "\n",
    "<b>d) 37 ºC.</b>\n",
    "\n",
    "\n",
    "e) 38 ºC."
   ]
  },
  {
   "cell_type": "code",
   "execution_count": 8,
   "metadata": {},
   "outputs": [
    {
     "name": "stdout",
     "output_type": "stream",
     "text": [
      "66.6\n",
      "333.0\n",
      "37.55555555555556"
     ]
    }
   ],
   "source": [
    "Tf = 98.6 - 32 # 66.6\n",
    "println(Tf)\n",
    "println(66.6 * 5)\n",
    "print(338 / 9)"
   ]
  },
  {
   "cell_type": "markdown",
   "metadata": {},
   "source": [
    "-------------------------------------------------------------------------------------------------------------------------------"
   ]
  },
  {
   "cell_type": "markdown",
   "metadata": {},
   "source": [
    "Em uma região no litoral do Brasil, a pressão ao nível do mar é de 1 atm. Uma mergulhadora decidiu conhecer as belezas subaquáticas do local e mergulhou até uma profundidade onde mediu uma pressão de 2,5 atm. Qual foi o valor da pressão medida, em pascal?\n",
    "\n",
    " \n",
    "Esta resposta é única\n",
    "\n",
    "a) 25 Pa.\n",
    "\n",
    "\n",
    "b) 250 Pa.\n",
    "\n",
    "\n",
    "c) 2.500 Pa.\n",
    "\n",
    "\n",
    "d) 25.000 Pa.\n",
    "\n",
    "\n",
    "e) 250.000 Pa."
   ]
  },
  {
   "cell_type": "markdown",
   "metadata": {},
   "source": [
    "Como 1 atm corresponde a aproximadamente $10^5$ Pa, basta multiplicar 2,5 atm por $10^5$ para obter o valor em pascal:\n",
    "\n",
    "$$ 2,5 \\cdot 10^5 = 250.000\\ Pa $$\n"
   ]
  },
  {
   "cell_type": "markdown",
   "metadata": {},
   "source": [
    "-------------------------------------------------------------------------------------------------------------------------------"
   ]
  },
  {
   "cell_type": "markdown",
   "metadata": {},
   "source": [
    "Qual das alternativas abaixo possui apenas unidades de uma mesma grandeza?\n",
    "\n",
    "\n",
    "a) m/s2, m/s,  m3, cm/s2.\n",
    "\n",
    "\n",
    "b) cm3, mm2, m3, km3.\n",
    "\n",
    "\n",
    "c) mm, cm, dm, m.\n",
    "\n",
    "\n",
    "d) cm2, m2, km2, m/s2.\n",
    "\n",
    "\n",
    "e) mm2, mm/s2, mm, mm3."
   ]
  },
  {
   "cell_type": "markdown",
   "metadata": {},
   "source": [
    "Na alternativa c), todas as unidades apresentadas são unidades de uma mesma grandeza: comprimento."
   ]
  },
  {
   "cell_type": "markdown",
   "metadata": {},
   "source": [
    "-------------------------------------------------------------------------------------------------------------------------------"
   ]
  },
  {
   "cell_type": "markdown",
   "metadata": {},
   "source": [
    "Em uma aula de biologia, Pedro aprendeu que o animal mais rápido do mundo é o guepardo, capaz de atingir a impressionante velocidade de 115 km/h. Na aula seguinte, Pedro aprendeu em física a converter unidades de velocidade e decidiu juntar os dois conhecimentos, convertendo a velocidade do guepardo para m/s. Qual é, aproximadamente, a velocidade do guepardo obtida por Pedro?\n",
    "\n",
    "\n",
    "Dado: 1 m/s = 3,6 km/h.\n",
    "\n",
    "a) 414 m/s.\n",
    "\n",
    "\n",
    "b) 32 m/s.\n",
    "\n",
    "\n",
    "c) 320 m/s.\n",
    "\n",
    "\n",
    "d) 4.140 m/s.\n",
    "\n",
    "\n",
    "e) 3,2 m/s.\n",
    "\n",
    "\n",
    "<b>Para converter um valor em km/h para m/s, basta dividir por 3,6:</b>"
   ]
  },
  {
   "cell_type": "code",
   "execution_count": 9,
   "metadata": {},
   "outputs": [
    {
     "data": {
      "text/plain": [
       "31.944444444444443"
      ]
     },
     "execution_count": 9,
     "metadata": {},
     "output_type": "execute_result"
    }
   ],
   "source": [
    "115/3.6"
   ]
  },
  {
   "cell_type": "markdown",
   "metadata": {},
   "source": [
    "-------------------------------------------------------------------------------------------------------------------------------"
   ]
  },
  {
   "cell_type": "markdown",
   "metadata": {},
   "source": [
    "(Uem 2020)  As recorrentes discussões sobre a importância do uso racional da água doce levam à reflexão sobre a quantidade de água disponível em nosso planeta. O quadro a seguir apresenta uma estimativa de distribuição média da água na Terra, em km3.\n",
    "\n",
    " \n",
    " \n",
    "| Oceanos |  1,3457125  bilhões | \n",
    "\n",
    "| Geleiras |  27  milhões | \n",
    "\n",
    "| Águas subterrâneas |  14  milhões | \n",
    "\n",
    "| Lagos |  228  mil | \n",
    "\n",
    "| Umidade do solo |  51  mil | \n",
    "\n",
    "| Atmosfera |  13  mil | \n",
    "\n",
    "| Rios |  1,5  mil | \n",
    "\n",
    "| Organismos |  1  mil | \n",
    "\n",
    "\n",
    "Com base nos dados do quadro, assinale o que for correto.\n",
    "\n",
    "\n",
    "\n",
    "Esta resposta é somatória\n",
    "\n",
    "01) O volume de água nos oceanos é de 13.457.125×1011 m3.    \n",
    "\n",
    "\n",
    "02) O volume de água nas geleiras é igual ao volume de um cubo de lado medindo 3.000 km.    \n",
    "\n",
    "\n",
    "04) O volume da água dos rios é de 15×1014 L.\n",
    "\n",
    "\n",
    "08) O volume de águas subterrâneas é superior a mil vezes o volume de água na atmosfera.   \n",
    "\n",
    "\n",
    "16) O volume de água concentrado na umidade do solo e na atmosfera cabe em uma esfera de raio "
   ]
  },
  {
   "cell_type": "code",
   "execution_count": null,
   "metadata": {},
   "outputs": [],
   "source": []
  },
  {
   "cell_type": "markdown",
   "metadata": {},
   "source": [
    "-------------------------------------------------------------------------------------------------------------------------------"
   ]
  }
 ],
 "metadata": {
  "kernelspec": {
   "display_name": "Julia 1.6.0",
   "language": "julia",
   "name": "julia-1.6"
  },
  "language_info": {
   "file_extension": ".jl",
   "mimetype": "application/julia",
   "name": "julia",
   "version": "1.6.0"
  }
 },
 "nbformat": 4,
 "nbformat_minor": 4
}
