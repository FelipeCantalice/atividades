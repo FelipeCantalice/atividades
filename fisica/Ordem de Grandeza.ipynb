{
 "cells": [
  {
   "cell_type": "markdown",
   "metadata": {},
   "source": [
    "(Uespi 2012 - Adaptada)  Estima-se que o planeta Terra tenha se formado há cerca de 4,5 bilhões de anos. Qual é a ordem de grandeza da idade da Terra em horas?\n",
    "\n",
    "Lembre-se: 1 ano tem 365 dias e 1 dia tem 24 horas.\n",
    "\n",
    "\n",
    "a) 10^11 \n",
    "\n",
    "\n",
    "<b>b) 10^14 </b>\n",
    "\n",
    "\n",
    "c) 10^15 \n",
    "\n",
    "\n",
    "d) 10^17   \n",
    "\n",
    "\n",
    "e) 10^19  "
   ]
  },
  {
   "cell_type": "code",
   "execution_count": null,
   "metadata": {},
   "outputs": [],
   "source": []
  },
  {
   "cell_type": "markdown",
   "metadata": {},
   "source": [
    "Um bilhão de anos são 1.000.000.000 anos ou, em notação científica, 10^9 anos. Então:\n",
    "\n",
    "4,5 bilhões de anos = 4,5 x 10^9 anos\n",
    "\n",
    "Um ano tem 365 dias, então, a idade da Terra em dias vale:\n",
    "\n",
    "365 x 4,5 x 10^9 dias = 1.642, 5 x 10^9 dias = 1,6425 x 10^12 dias (em notação científica)\n",
    "\n",
    "Porém, o exercício quer saber essa idade em horas. Um dia tem 24 horas, logo, a idade da Terra em horas vale:\n",
    "\n",
    "24 x 1,6425 x 10^12 horas = 39,42 x 10^12 horas = 3,942 x 10^13 horas (em notação científica).\n",
    "\n",
    "Sabendo que √10 vale aproximadamente 3,16.\n",
    "Como 3,942 > √10, aumentamos em 1 o expoente da potência de 10 e chegamos à ordem de grandeza 1014 ."
   ]
  },
  {
   "cell_type": "markdown",
   "metadata": {},
   "source": [
    "-------------------------------------------------------------------------------------------------------------------------------"
   ]
  },
  {
   "cell_type": "markdown",
   "metadata": {},
   "source": [
    "(Ufu 2018 - Adaptada)  Em 2014, um importante trabalho publicado revelou novos dados sobre a estrutura em larga escala do universo, indicando que nossa galáxia faz parte de um superaglomerado chamado Laniakea, com massa de cerca de 10^17 estrelas como o sol, que tem 2 × 10^30 kg de massa, aproximadamente. Em 2015, o Prêmio Nobel de Física foi concedido a cientistas que descobriram uma das menores massas, 4 × 10^-36 kg, a de um neutrino, um tipo de partícula elementar.\n",
    "\n",
    "Em ciência, uma maneira de se trabalhar com valores muito grandes ou muito pequenos é a ordem de grandeza. Com base nas duas descobertas apontadas, quantas vezes a ordem de grandeza da massa de Laniakea é maior do que a de um neutrino?\n",
    "\n",
    " \n",
    "\n",
    "a) 10^82.   \n",
    "\n",
    "\n",
    "b) 10^79.   \n",
    "\n",
    "\n",
    "c) 10^49.   \n",
    "\n",
    "\n",
    "d) 10^62.   "
   ]
  },
  {
   "cell_type": "code",
   "execution_count": 9,
   "metadata": {},
   "outputs": [
    {
     "data": {
      "text/plain": [
       "53"
      ]
     },
     "execution_count": 9,
     "metadata": {},
     "output_type": "execute_result"
    }
   ],
   "source": []
  },
  {
   "cell_type": "markdown",
   "metadata": {},
   "source": [
    "-------------------------------------------------------------------------------------------------------------------------------"
   ]
  },
  {
   "cell_type": "markdown",
   "metadata": {},
   "source": [
    "-------------------------------------------------------------------------------------------------------------------------------"
   ]
  },
  {
   "cell_type": "markdown",
   "metadata": {},
   "source": [
    "-------------------------------------------------------------------------------------------------------------------------------"
   ]
  },
  {
   "cell_type": "markdown",
   "metadata": {},
   "source": [
    "-------------------------------------------------------------------------------------------------------------------------------"
   ]
  },
  {
   "cell_type": "markdown",
   "metadata": {},
   "source": [
    "-------------------------------------------------------------------------------------------------------------------------------"
   ]
  },
  {
   "cell_type": "markdown",
   "metadata": {},
   "source": [
    "-------------------------------------------------------------------------------------------------------------------------------"
   ]
  },
  {
   "cell_type": "markdown",
   "metadata": {},
   "source": [
    "-------------------------------------------------------------------------------------------------------------------------------"
   ]
  },
  {
   "cell_type": "markdown",
   "metadata": {},
   "source": [
    "-------------------------------------------------------------------------------------------------------------------------------"
   ]
  },
  {
   "cell_type": "markdown",
   "metadata": {},
   "source": [
    "-------------------------------------------------------------------------------------------------------------------------------"
   ]
  }
 ],
 "metadata": {
  "kernelspec": {
   "display_name": "Julia 1.6.0",
   "language": "julia",
   "name": "julia-1.6"
  },
  "language_info": {
   "file_extension": ".jl",
   "mimetype": "application/julia",
   "name": "julia",
   "version": "1.6.0"
  }
 },
 "nbformat": 4,
 "nbformat_minor": 4
}
