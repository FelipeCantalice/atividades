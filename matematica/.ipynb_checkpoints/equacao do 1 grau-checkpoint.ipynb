{
 "cells": [
  {
   "cell_type": "markdown",
   "metadata": {},
   "source": [
    "https://www.biologiatotal.com.br/medio/matematica/exercicios/matematica-basica/?assunto=equacao-do-1o-grau"
   ]
  },
  {
   "cell_type": "markdown",
   "metadata": {},
   "source": [
    "(IFAL 2018) Determine o valor da raiz da equação 3x + 5 = 2."
   ]
  },
  {
   "cell_type": "markdown",
   "metadata": {},
   "source": [
    "3x = 2 - 5\n",
    "\n",
    "3x = -3\n",
    "\n",
    "x = -1"
   ]
  },
  {
   "cell_type": "markdown",
   "metadata": {},
   "source": [
    "-------------------------------------------------------------------------------------------------------------------------------"
   ]
  },
  {
   "cell_type": "markdown",
   "metadata": {},
   "source": [
    "(IFPE 2018)  Na turma do primeiro período do curso de Computação Gráfica do IFPE – Olinda há 36 pessoas. O número de meninos dessa turma é o triplo do número de meninas, logo, podemos afirmar, que nessa turma, temos:"
   ]
  },
  {
   "cell_type": "markdown",
   "metadata": {},
   "source": [
    "Temos x mulheres\n",
    "Temos 3x homens\n",
    "\n",
    "x + 3x = 36\n",
    "\n",
    "4x = 36\n",
    "\n",
    "$x = \\frac{36}{4} $\n",
    "\n",
    "\n",
    "x = 9\n",
    "\n",
    "\n"
   ]
  },
  {
   "cell_type": "markdown",
   "metadata": {},
   "source": [
    "-------------------------------------------------------------------------------------------------------------------------------"
   ]
  },
  {
   "cell_type": "markdown",
   "metadata": {},
   "source": [
    "( IFPE 2018)  Um pai percebeu que a soma da sua idade com a idade de seu filho totalizava 52 anos. Sabendo que a idade do pai é  12 vezes a idade do filho, assinale a alternativa que indica quantos anos o pai é mais velho do que o filho."
   ]
  },
  {
   "cell_type": "markdown",
   "metadata": {},
   "source": [
    "Temos x idade do pai\n",
    "\n",
    "A soma é 52 anos\n",
    "\n",
    "Idade do Pai é 12 vezes a idade do filho\n",
    "\n",
    "\n",
    "x + 12x = 52\n",
    "\n",
    "13x = 52\n",
    "\n",
    "$x = \\frac{52}{13}$\n",
    "\n",
    "x = 4\n",
    "\n",
    "12 multiplado por 4 é igual a 44 anos\n"
   ]
  },
  {
   "cell_type": "markdown",
   "metadata": {},
   "source": [
    "-------------------------------------------------------------------------------------------------------------------------------"
   ]
  },
  {
   "cell_type": "markdown",
   "metadata": {},
   "source": [
    "(UEFS 2017)  Uma herança de 80 milhões de reais deveria ser repartida pelo patriarca, entre os herdeiros da família, constituída por sua filha, que estava grávida, e a prole resultante dessa gravidez, de modo que, cada criança nascida receberia o dobro do que caberia à mãe, se fosse do sexo masculino, e o triplo do que caberia à mãe, se fosse do sexo feminino. Nasceram trigêmeos, sendo dois meninos e uma menina.\n",
    "\n",
    " \n",
    "\n",
    "Nessas condições, pode-se afirmar que, pela divisão da herança, em milhões, entre mãe, cada menino e a menina, couberam, respectivamente,"
   ]
  },
  {
   "cell_type": "markdown",
   "metadata": {},
   "source": [
    "herança de 80 milhões\n",
    "\n",
    "Precisa ser dividida a herança, onde cada criança nascida \n",
    "receberia o dobro do que caberia à mãe , se fosse do sexo masculino\n",
    "triplo do que caberia à mãe, se fosse do sexo feminino\n",
    "\n",
    "Nasceram trigêmeos, sendo dois meninos e uma menina.\n",
    "\n",
    "a mãe x\n",
    "dois meninos 2x + 2x\n",
    "uma menina 3x\n",
    "sendo igual a 80 mi\n",
    " \n",
    "x + 2x + 2x + 3x = 80 \n",
    "\n",
    "8x = 80\n",
    "\n",
    "$x = \\frac{80}{8}$\n",
    "\n",
    "x = 10\n",
    "\n",
    "2x = 20\n",
    "\n",
    "3x = 30"
   ]
  },
  {
   "cell_type": "markdown",
   "metadata": {},
   "source": [
    "-------------------------------------------------------------------------------------------------------------------------------"
   ]
  },
  {
   "cell_type": "markdown",
   "metadata": {},
   "source": [
    "(IFSC 2017)  Considerando a equação $-5\\cdot(3x-8)=-45$ , é CORRETO afirmar que ela é equivalente a:"
   ]
  },
  {
   "cell_type": "markdown",
   "metadata": {},
   "source": [
    "-15x + 40 = -45\n",
    "\n",
    "-15x + 40 + 45 = 0\n",
    "\n",
    "-15x + 85 = 0"
   ]
  },
  {
   "cell_type": "markdown",
   "metadata": {},
   "source": [
    "-------------------------------------------------------------------------------------------------------------------------------"
   ]
  },
  {
   "cell_type": "markdown",
   "metadata": {},
   "source": [
    "(IFSC 2018)  Considere a equação $\\frac{3x}{4} = 2x + 5 $ e assinale a alternativa CORRETA."
   ]
  },
  {
   "cell_type": "markdown",
   "metadata": {},
   "source": [
    "$\\frac{3x}{4} = 2x + 5 $ como é uma igualdade multiplamos por 4(a valor abaixo da fração, não necessariamente), será sempre igual\n",
    "\n",
    "letra e\n",
    "\n"
   ]
  },
  {
   "cell_type": "markdown",
   "metadata": {},
   "source": []
  },
  {
   "cell_type": "markdown",
   "metadata": {},
   "source": [
    "-------------------------------------------------------------------------------------------------------------------------------"
   ]
  }
 ],
 "metadata": {
  "kernelspec": {
   "display_name": "Julia 1.6.0",
   "language": "julia",
   "name": "julia-1.6"
  },
  "language_info": {
   "file_extension": ".jl",
   "mimetype": "application/julia",
   "name": "julia",
   "version": "1.6.0"
  }
 },
 "nbformat": 4,
 "nbformat_minor": 4
}
