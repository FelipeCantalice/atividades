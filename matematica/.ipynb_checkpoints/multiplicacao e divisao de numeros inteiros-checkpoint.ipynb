{
 "cells": [
  {
   "cell_type": "code",
   "execution_count": null,
   "metadata": {},
   "outputs": [],
   "source": []
  },
  {
   "cell_type": "markdown",
   "metadata": {},
   "source": [
    "(G1 - ifpe 2014)  A Copa das Confederações ratificou seu grande sucesso de público em terras brasileiras. Com média próxima aos 50 mil torcedores por jogo e um índice aproximado de 80% de ocupação nas arenas, o torneio ficou por um triz de quebrar o recorde de ocupação de estádios, pertencente à Alemanha-2005. \n",
    "Considerando que houve 16 jogos durante a copa, qual o público total aproximado?"
   ]
  },
  {
   "cell_type": "code",
   "execution_count": 2,
   "metadata": {},
   "outputs": [
    {
     "data": {
      "text/plain": [
       "800000"
      ]
     },
     "execution_count": 2,
     "metadata": {},
     "output_type": "execute_result"
    }
   ],
   "source": [
    "media = 50000\n",
    "total_jogos = 16\n",
    "media * total_jogos  "
   ]
  },
  {
   "cell_type": "markdown",
   "metadata": {},
   "source": [
    "O total aproximado do publico durante todos os 16 jogos foi de 800.000 mil pessoas"
   ]
  },
  {
   "cell_type": "markdown",
   "metadata": {},
   "source": [
    "-------------------------------------------------------------------------------------------------------------------------------"
   ]
  },
  {
   "cell_type": "markdown",
   "metadata": {},
   "source": [
    "(G1 - ifpe 2012) O SBT, em parceria com a Nestlé, criou um novo programa de perguntas e respostas chamado “UM MILHÃO NA MESA”. Nele o apresentador Silvio Santos faz perguntas sobre temas escolhidos pelos participantes. O prêmio máximo é de R$ 1.000.000,00 que fica, inicialmente, sobre uma mesa, distribuídos em pacotes com notas de R$ 20,00. Cada pacote é formado por mil notas. Em quantos pacotes está dividido o prêmio do programa?"
   ]
  },
  {
   "cell_type": "code",
   "execution_count": 3,
   "metadata": {},
   "outputs": [
    {
     "data": {
      "text/plain": [
       "50.0"
      ]
     },
     "execution_count": 3,
     "metadata": {},
     "output_type": "execute_result"
    }
   ],
   "source": [
    "quantidade_pacote = 1000000 / 20000\n",
    "quantidade_pacote"
   ]
  },
  {
   "cell_type": "markdown",
   "metadata": {},
   "source": [
    "$$\n",
    "\\frac{1}{20.000}  * \\frac{x}{1.000.000} \n",
    "$$\n",
    "\n",
    "Cada pacote possui mil notas, todos os pacotes possuem notas com o valor de R$: 20,00.\n",
    "\n",
    "Podemos concluir que 1 pacote, contém 20.000 reais.\n",
    "\n",
    "Aplicando a regra de tres, podemos dizer que foram 50 pacotes."
   ]
  },
  {
   "cell_type": "code",
   "execution_count": null,
   "metadata": {},
   "outputs": [],
   "source": []
  },
  {
   "cell_type": "markdown",
   "metadata": {},
   "source": [
    "(ifba 2018)  Tertulino irá viajar e deseja guardar seus CDs de arrocha em sacolas plásticas. Para guardar os CDs em sacolas que contenham 60 unidades, serão necessárias 15 sacolas plásticas. Na mesma proporção, se os CDs forem guardados em sacolas com 75 unidades, quantas sacolas serão necessárias?"
   ]
  },
  {
   "cell_type": "code",
   "execution_count": null,
   "metadata": {},
   "outputs": [],
   "source": []
  },
  {
   "cell_type": "code",
   "execution_count": 26,
   "metadata": {},
   "outputs": [
    {
     "name": "stdout",
     "output_type": "stream",
     "text": [
      "Quantidade de sacolas, cada uma com 60 unidades: 15.0\n",
      "\n",
      "Resposta:\n",
      "Quantidade de sacolas, cada uma com 75 unidades: 12.0\n"
     ]
    }
   ],
   "source": [
    "total_cds = 900\n",
    "quantidade_sacolas_com_60_unidades = total_cds / 60\n",
    "println(\"Quantidade de sacolas, cada uma com 60 unidades: $quantidade_sacolas_com_60_unidades\")\n",
    "\n",
    "println(\"\\nResposta:\")\n",
    "quantidade_sacolas_com_75_unidades = total_cds / 75\n",
    "println(\"Quantidade de sacolas, cada uma com 75 unidades: $quantidade_sacolas_com_75_unidades\")\n"
   ]
  },
  {
   "cell_type": "markdown",
   "metadata": {},
   "source": [
    "Cada sacola terá 60 unidades, sendo necessário 15 sacolas, então ele possui 900 CDs\n",
    "\n",
    "Se o total for 900 CDs, então se dividirmos 900 por 60, que é o numero de sacolas que ele citou.\n",
    "    \n",
    "Então seguindo a mesma lógica, iremos guardar os 900 CDs, sendo que cada sacola irá precisar de 75, então temos 12 sacolas."
   ]
  },
  {
   "cell_type": "markdown",
   "metadata": {},
   "source": [
    "(G1 - ifce 2016)  Sejam a e b números naturais para os quais a multiplicação abaixo é verdadeira.\n",
    "$\n",
    "\\ \\ \\ \\ \\ 2\\ \\ a\\\\\n",
    "\\underline{\\times \\ \\ b\\ \\ 3\\ \\ \\ }\\\\\n",
    "\\quad\\ \\ 6\\ 9\\\\\n",
    "\\underline{\\ \\ \\ 9\\ 2\\quad\\ \\ }\\\\\n",
    "\\ \\ \\ 9\\ 8\\ 9\n",
    "$\n",
    "Então, o valor de a + b é"
   ]
  },
  {
   "cell_type": "code",
   "execution_count": 2,
   "metadata": {},
   "outputs": [
    {
     "data": {
      "text/plain": [
       "989"
      ]
     },
     "execution_count": 2,
     "metadata": {},
     "output_type": "execute_result"
    }
   ],
   "source": [
    "a = 3\n",
    "b = 4\n",
    "\n",
    "23 * 43"
   ]
  },
  {
   "cell_type": "markdown",
   "metadata": {},
   "source": [
    "(Ufrgs 2012) O dispensador de dinheiro do caixa eletrônico de um banco foi abastecido apenas com cédulas de 5,00 reais e de 20,00 reais. Um cliente, ao realizar um saque, constatou que o dispensador liberou 6 cédulas. Entre elas, havia pelo menos uma de cada valor.\n",
    "\n",
    "\n",
    "Com base nesses dados, é correto afirmar que a única alternativa que apresenta uma quantia que poderia ter sido sacada pelo cliente é\n",
    "\n",
    "<b>a) 90,00</b>  \n",
    "b) 95,00.   \n",
    "c) 100,00.   \n",
    "d) 110,00.   \n",
    "e) 120,00.  "
   ]
  },
  {
   "cell_type": "markdown",
   "metadata": {},
   "source": [
    "O caixa eletronico possui somente 2 notas, sendo de 5.00 e 20.00 reais\n",
    "\n",
    "O cliente recebeu 6 cédulas, sendo que havia pelo menos uma de cada valor\n",
    "\n",
    "Então ele poderia ter essas possibilidades\n",
    "\n",
    "| Nota de 5,00  | Nota de  20,00  | Total de cédulas| Valor  |\n",
    "| --------------|:---------------:|:---------------:|:------:|\n",
    "| 1             |5                |6                |105,00  |\n",
    "| 2             |4                |6                | 90,00  |\n",
    "| 3             |3                |6                | 75,00  |\n",
    "| 4             |2                |6                | 60,00  |\n",
    "| 5             |1                |6                | 46,00  |\n",
    "\n",
    "A unica alternativa será 90 reais, que no caso é letra <b>A</b>\n"
   ]
  },
  {
   "cell_type": "code",
   "execution_count": 22,
   "metadata": {},
   "outputs": [
    {
     "name": "stdout",
     "output_type": "stream",
     "text": [
      "Se ele possui 1 nota de 5,00 e 5 notas de 20,00 então o valor será de = 105\n",
      "Se ele possui 2 nota de 5,00 e 4 notas de 20,00 então o valor será de = 90\n",
      "Se ele possui 3 nota de 5,00 e 3 notas de 20,00 então o valor será de = 75\n",
      "Se ele possui 4 nota de 5,00 e 2 notas de 20,00 então o valor será de = 60\n",
      "Se ele possui 5 nota de 5,00 e 1 notas de 20,00 então o valor será de = 45\n"
     ]
    }
   ],
   "source": [
    "total_cedulas = 6\n",
    "\n",
    "println(\"Se ele possui 1 nota de 5,00 e 5 notas de 20,00 então o valor será de = $((5 * 1) + (20 * 5))\")\n",
    "\n",
    "println(\"Se ele possui 2 nota de 5,00 e 4 notas de 20,00 então o valor será de = $((5 * 2) + (20 * 4))\")\n",
    "println(\"Se ele possui 3 nota de 5,00 e 3 notas de 20,00 então o valor será de = $((5 * 3) + (20 * 3))\")\n",
    "println(\"Se ele possui 4 nota de 5,00 e 2 notas de 20,00 então o valor será de = $((5 * 4) + (20 * 2))\")\n",
    "println(\"Se ele possui 5 nota de 5,00 e 1 notas de 20,00 então o valor será de = $((5 * 5) + (20 * 1))\")"
   ]
  },
  {
   "cell_type": "markdown",
   "metadata": {},
   "source": [
    "-------------------------------------------------------------------------------------------------------------------------------"
   ]
  },
  {
   "cell_type": "markdown",
   "metadata": {},
   "source": [
    "(Ufg 2012)  Considere que no primeiro dia do Rock in Rio 2011, em um certo momento, o público presente era de cem mil pessoas e que a Cidade do Rock, local do evento, dispunha de quatro portões por onde podiam sair, no máximo, 1250 pessoas por minuto, em cada portão. Nestas circunstâncias, o tempo mínimo, em minutos, para esvaziar a Cidade do Rock será de:"
   ]
  },
  {
   "cell_type": "markdown",
   "metadata": {},
   "source": [
    "A cidade do Rock possui 100.000 pessoas\n",
    "\n",
    "A cidade possui 4 portões, podendo por minuto sair 1250 pessoas, em cada portão\n",
    "\n",
    "Qual é o tempo minimo em minutos para esvaziar a cidade?\n",
    "\n",
    "\n",
    "Resposta\n",
    "\n",
    "Por minuto pode sair no total 5.000 pessoas\n",
    "\n",
    "Aplicando regra de tres temos\n",
    "\n",
    "$\n",
    "\\frac{1}{5.000}  * \\frac{x}{100.000} \n",
    "$\n",
    "\n",
    "<b>20 minutos</b>"
   ]
  },
  {
   "cell_type": "code",
   "execution_count": 25,
   "metadata": {},
   "outputs": [
    {
     "name": "stdout",
     "output_type": "stream",
     "text": [
      "Por minuto pode sair total de 5000\n",
      "20.0\n"
     ]
    }
   ],
   "source": [
    "cidade = 100000\n",
    "portoes = 4\n",
    "portoes_qtd = 1250\n",
    "println(\"Por minuto pode sair total de $(portoes_qtd * 4)\")\n",
    "\n",
    "println(\"$(100000 / 5000)\")"
   ]
  },
  {
   "cell_type": "markdown",
   "metadata": {},
   "source": [
    "-------------------------------------------------------------------------------------------------------------------------------"
   ]
  },
  {
   "cell_type": "markdown",
   "metadata": {},
   "source": [
    "(Uema 2015) O proprietário de uma oficina mecânica presta serviços de manutenção e de recuperação de carros de passeio, além de troca e de reposição de óleos em geral. Ao analisar por um ano a troca regular de óleo do motor em 45 carros de passeio de seus clientes com fidelidade, verificou que ela é efetuada em um período médio de quatro meses e que são utilizados 3 litros de óleo em cada troca. Com base nessas informações, pode-se concluir que o consumo de litros de óleo nos carros de passeio dessa oficina dos clientes com fidelidade, em um semestre, é igual a\n",
    "\n",
    "a) 250,0\n",
    "\n",
    "b) 225,0 \n",
    "\n",
    "c) 222,5 \n",
    "\n",
    "d) 205,0 \n",
    "\n",
    "<b>e) 202,5</b>"
   ]
  },
  {
   "cell_type": "markdown",
   "metadata": {},
   "source": [
    "Ao analisar por 1 ano, em 45 carros, foi efetuado em um pediodo medio de 4 meses, o uso de 3L de oléo em cada troca\n",
    "\n",
    "1 semestre possui 6 meses.\n",
    "\n",
    "Quantos litros são utilizados em 1 semestre com os 45 carros?\n",
    "\n",
    "\n",
    "<b>Por mês foi gasto com oleo 202.5</b>"
   ]
  },
  {
   "cell_type": "code",
   "execution_count": 40,
   "metadata": {},
   "outputs": [
    {
     "name": "stdout",
     "output_type": "stream",
     "text": [
      "No periodo de 4 meses com 45 carros foi gasto 135L\n",
      "O ano possui 12 meses, sabemos que em quatro meses foi gasto 135L, então em 1 ano foi gasto 405L\n",
      "O semestre são 6 meses, então dividimos por 2 202.5L\n"
     ]
    }
   ],
   "source": [
    "println(\"No periodo de 4 meses com 45 carros foi gasto $(3 * 45)L\")\n",
    "println(\"O ano possui 12 meses, sabemos que em quatro meses foi gasto 135L, então em 1 ano foi gasto $(135 * 3)L\")\n",
    "println(\"O semestre são 6 meses, então dividimos por 2 $(405 / 2)L\")"
   ]
  },
  {
   "cell_type": "markdown",
   "metadata": {},
   "source": [
    "-------------------------------------------------------------------------------------------------------------------------------"
   ]
  },
  {
   "cell_type": "markdown",
   "metadata": {},
   "source": [
    "(IFPE 2014) A Dra. Judith sempre atende, no seu consultório, o mesmo número de pacientes a cada turno de quatro horas de trabalho. Ela percebeu que, gastando em média vinte e cinco minutos para atender cada paciente, sempre trabalhava 1 hora além do seu expediente. Para que ela atenda o mesmo número de pacientes e cumpra exatamente o horário previsto para cada turno, o atendimento por cada paciente deve durar, em média, quantos minutos?\n",
    "\n",
    "a) 4\n",
    "\n",
    "\n",
    "b) 8\n",
    "\n",
    "\n",
    "c) 12\n",
    "\n",
    "\n",
    "d) 16\n",
    "\n",
    "\n",
    "e) 20"
   ]
  },
  {
   "cell_type": "markdown",
   "metadata": {},
   "source": [
    "A Dra. Judith sempre atende o mesmo numero de pacientes a cada turno de quatro horas de trabalho.\n",
    "\n",
    "gastando em médio de 25 minutos, cada paciente\n",
    "\n",
    "porem ela trabalha 1 hora alem de seu expediente\n",
    "\n",
    "Para que ela atenda o mesmo número de pacientes e cumpra exatamente o horário previsto para cada turno, o atendimento por cada paciente deve durar?\n",
    "\n",
    "$$\n",
    "\\frac{25}{240}  * \\frac{x}{300} \n",
    "$$\n"
   ]
  },
  {
   "cell_type": "code",
   "execution_count": 4,
   "metadata": {},
   "outputs": [
    {
     "name": "stdout",
     "output_type": "stream",
     "text": [
      "O tempo do turno é 240 minutos\n",
      "Porém ela trabalha 1 hora a mais sendo 300 minutos\n",
      "Então com 12 pacientes ela trabalha os 300 minutos\n",
      "Aplicando a regra de três, descobrimos que em 20.0 minutos, é possivel atender todos os 12 pacientes, em 240 minutos\n"
     ]
    }
   ],
   "source": [
    "turno = 4\n",
    "tempo_medio = 25 # por paciente\n",
    "println(\"O tempo do turno é $(4 * 60) minutos\")\n",
    "println(\"Porém ela trabalha 1 hora a mais sendo $(5 * 60) minutos\")\n",
    "\n",
    "println(\"Então com 12 pacientes ela trabalha os $(12 * 25) minutos\") # ela atende 12 pacientes\n",
    "regras_de_tres = (25 * 240) / (300)\n",
    "println(\"Aplicando a regra de três, descobrimos que em $(regras_de_tres) minutos, é possivel atender todos os 12 pacientes, em 240 minutos\")\n"
   ]
  },
  {
   "cell_type": "markdown",
   "metadata": {},
   "source": [
    "(Espm 2016)  Na multiplicação abaixo, cada letra repre­senta um algarismo do sistema decimal de numeração. O valor de A + B + C + D é: \n",
    "\n",
    "$$\n",
    "\\begin{align}\n",
    "  & \\ \\ A\\ B\\ C \\\\ \n",
    " & \\underline{\\times \\ \\ \\ \\ \\ \\ \\ 9} \\\\ \n",
    " & 7\\ D\\ C\\ 6 \\\\ \n",
    "\\end{align}\n",
    "$$\n",
    "\n",
    "\n",
    "a) 22      \n",
    "\n",
    "\n",
    "b) 20   \n",
    "\n",
    "\n",
    "c) 24   \n",
    "\n",
    "\n",
    "<b>d) 21</b> \n",
    "\n",
    "\n",
    "e) 23"
   ]
  },
  {
   "cell_type": "code",
   "execution_count": 6,
   "metadata": {},
   "outputs": [
    {
     "name": "stdout",
     "output_type": "stream",
     "text": [
      "21"
     ]
    }
   ],
   "source": [
    "a = 7\n",
    "b = 9\n",
    "c = 4\n",
    "d = 1\n",
    "print(a+b+c+d)"
   ]
  },
  {
   "cell_type": "markdown",
   "metadata": {},
   "source": [
    "(G1 - ifpe 2014)  “A Linha Sul do metrô, que interliga o Centro da cidade do Recife ao sul da Região Metropolitana, é a nova promessa do sistema metroviário no Estado. A perspectiva é de mais passageiros este ano com o início da operação do Veículo Leve sobre Trilhos (VLT) e de três terminais integrados com ônibus. Hoje, a Linha Sul do metrô transportam 40 mil pessoas por dia, com cinco trens e intervalos médios de 11 minutos.”\n",
    "\n",
    "Supondo que o intervalo de 11 minutos citado na reportagem seja de fato executado, se um metrô passou às 15 horas e 30 minutos na estação Largo da Paz, quem chegar a essa estação às 18 horas irá esperar quantos minutos pelo próximo metrô?\n",
    "\n",
    "\n",
    "a) 3\n",
    "\n",
    "\n",
    "b) 4\n",
    "\n",
    "\n",
    "c) 5\n",
    "\n",
    "\n",
    "d) 7\n",
    "\n",
    "\n",
    "e) 10\n"
   ]
  },
  {
   "cell_type": "markdown",
   "metadata": {},
   "source": [
    "A linha Sul do metro transportam 40 mil pessoas por dia\n",
    "com cinco trens \n",
    "intervalos médios de 11 minutos.\n",
    "\n",
    "Se um trem passou as 15:30, quem chegar as 18:00, vai esperar quantos minutos?\n",
    "\n",
    "<b>RESPOSTA</b>\n",
    "\n",
    "Se um metrô passou às 15 horas e 30 minutos na estação, o próximo deverá passar às 15:41 e assim por diante. Logo, das 15:30 às 18:00 são duas horas e meia, ou seja, 150 minutos. Logo, basta dividir 150 minutos por 11 minutos e analisar o resto da divisão. Desta maneira:\n",
    "\n",
    "\n",
    " \n",
    "\n",
    "Quando ele chegar na plataforma, o último trem terá passado há 7 minutos atrás.\n",
    "\n",
    " \n",
    "\n",
    "$$\n",
    "\\ \\ \\ 150\\ |\\!\\underline{\\ \\ 11\\quad}\\\\\n",
    "\\underline{-11\\ }\\ \\ \\ \\ 13\\\\\n",
    "\\ \\ \\ 040\\\\\n",
    "\\ \\ \\underline{-33\\ }\\\\\n",
    "\\ \\ \\ \\ \\ 07\\leftarrow\\text{Resto}\n",
    "$$\n",
    "\n",
    " \n",
    "\n",
    "Logo, como o resto é 7 basta fazer: 11 - 7 = 4 minutos. Portanto a pessoa terá que esperar mais 4 minutos.\n"
   ]
  },
  {
   "cell_type": "code",
   "execution_count": 21,
   "metadata": {},
   "outputs": [
    {
     "name": "stdout",
     "output_type": "stream",
     "text": [
      "11 - 7 = 4 minutos que terá que esperar\n"
     ]
    }
   ],
   "source": [
    "minutos = 60 + 60 + 30 # 02:30\n",
    "\n",
    "println(\"11 - $(minutos % 11) = $(11 - (minutos % 11)) minutos que terá que esperar\")"
   ]
  },
  {
   "cell_type": "markdown",
   "metadata": {},
   "source": [
    "(Upe 2012) A revendedora de automóveis Carro Bom iniciou o dia com os seguintes automóveis para venda:\n",
    "\n",
    " \n",
    "\n",
    "| Automóvel |  Nº de automóveis |  Valor unitário |\n",
    "| ----------|:---------------  :|:---------------:|\n",
    "| Alfa |  10 |  30.000 |\n",
    "| Beta |  10 |  20.000 |\n",
    "| Gama |  10 |  10.000 |\n",
    "\n",
    " \n",
    "A tabela mostra que, nesse dia, o valor do estoque é de 600.000,00 e o valor médio do automóvel é de 20.000,00. Se, nesse dia, foram vendidos somente cinco automóveis do modelo Gama, então, ao final do dia, em relação ao início do dia\n",
    "\n",
    "\n",
    "Esta resposta é única\n",
    "\n",
    "a) o valor do estoque bem como o valor médio do automóvel eram menores.\n",
    "\n",
    "\n",
    "b) o valor do estoque era menor, e o valor médio do automóvel, igual.\n",
    "\n",
    "\n",
    "<b>c) o valor do estoque era menor, e o valor médio do automóvel, maior.</b>\n",
    "\n",
    "\n",
    "d) o valor do estoque bem como o valor médio do automóvel eram maiores.\n",
    "\n",
    "\n",
    "e) o valor do estoque era maior, e o valor médio do automóvel, menor."
   ]
  },
  {
   "cell_type": "code",
   "execution_count": 22,
   "metadata": {},
   "outputs": [
    {
     "name": "stdout",
     "output_type": "stream",
     "text": [
      "50000\n"
     ]
    }
   ],
   "source": [
    "println(5 * 10000)"
   ]
  },
  {
   "cell_type": "markdown",
   "metadata": {},
   "source": [
    "(G1 - ifpe 2016)  Bruno acabou de entrar numa academia. Após fazer uma avaliação física, o instrutor de sua academia lhe recomendou 5 tipos de exercícios, cada um com três séries. Levando em consideração que Bruno leva 90 segundos em cada série completa e que o intervalo recomendado entre uma série e outra, e também na mudança de exercícios, é de 50 segundos, em quanto tempo ele terminará o treino obedecendo às recomendações do instrutor?\n",
    "\n",
    "\n",
    "a) Em 30 minutos.    \n",
    "\n",
    "\n",
    "b) Em 30 minutos e 20 segundos.   \n",
    "\n",
    "\n",
    "c) Em 32 minutos.     \n",
    "\n",
    "\n",
    "d) Em 35 minutos.   \n",
    "\n",
    "\n",
    "<b>e) Em 34 minutos e 10 segundos.</b>"
   ]
  },
  {
   "cell_type": "code",
   "execution_count": null,
   "metadata": {},
   "outputs": [],
   "source": [
    "Bruno leva 90 segundos em cada serie completa\n",
    "\n",
    "Intervalo 50 segundos\n",
    "\n",
    "5 tipos de exercicios, cada um com tres series, em quanto tempo ele terminara o treino?\n",
    "\n",
    "<b>RESPOSTA</b>\n",
    "\n",
    "Sendo 3 séries com 90 segundos para finalizar mais 3 pausas com 50 segundos\n",
    "3 * (90 + 50) = 2100 segundos\n",
    "\n",
    "Porém lembramos que a a ultima série do ultimo exercicio não possui não possui pausa pois foi finalizado \n",
    "2100 segundos - 50 segundos = 2050 minutos\n",
    "    \n",
    "    \n",
    "34 minutos e 10 segundos\n"
   ]
  },
  {
   "cell_type": "code",
   "execution_count": 32,
   "metadata": {},
   "outputs": [
    {
     "name": "stdout",
     "output_type": "stream",
     "text": [
      "2050 minutos\n"
     ]
    }
   ],
   "source": [
    "\n",
    "println(\"$((3 * (90 + 50)) * 5 - 50) segundos\")\n",
    "println(\"$((3 * (90 + 50)) * 5 - 50) segundos\")"
   ]
  },
  {
   "cell_type": "markdown",
   "metadata": {},
   "source": [
    "(IFPE 2014) Em alguns países da África, as estradas ainda são muito precárias e com pouca infraestrutura. Em um desses países, há uma estrada já asfaltada, com dois postos de combustível: um no quilômetro 55 e outro no quilômetro 265, sem nenhum outro posto entre eles. O governo desse país decidiu construir cinco postos de combustível entre esses dois já existentes, de modo que a distância d entre dois postos consecutivos seja sempre a mesma. Determine o valor de d, em quilômetros.\n",
    "\n",
    "\n",
    "a) 28 \n",
    "\n",
    "\n",
    "b) 35 \n",
    "\n",
    "\n",
    "c) 42 \n",
    "\n",
    "\n",
    "d) 45 \n",
    "\n",
    "\n",
    "e) 46"
   ]
  },
  {
   "cell_type": "markdown",
   "metadata": {},
   "source": [
    "Em uma estrada existem 2 postos de combutivel, um no quilômetro 55 e outro no quilômetro 265\n",
    "\n",
    " O governo desse país decidiu construir cinco postos de combustível entre esses dois já existentes\n",
    "\n",
    "de modo que a distância D entre dois postos consecutivos seja sempre a mesma.\n",
    "\n",
    "Determine o valor de D, em quilômetros.\n",
    "\n",
    "\n",
    "\n",
    "Como serão cinco postos entre os dois já construídos, deve-se obter a diferença entre as duas distâncias e dividi-las por seis, já que, quando inseridos 5 postos, ficamos com 6 trechos de estrada na distância total, logo:\n",
    "\n",
    "265 - 55 = 210\n",
    " \n",
    "\n",
    "Dividindo temos:\n",
    "$$\n",
    "\\frac{210}{6}=35\\text{ km}\n",
    "$$\n"
   ]
  },
  {
   "cell_type": "code",
   "execution_count": null,
   "metadata": {},
   "outputs": [],
   "source": []
  },
  {
   "cell_type": "markdown",
   "metadata": {},
   "source": [
    "O dia 6 de Fevereiro de 2020 caiu numa quinta-feira. Três mil dias após esta data será que dia da semana?\n",
    "Esta resposta é somatória\n",
    "\n",
    "a) Segunda-feira\n",
    "\n",
    "\n",
    "b) Quarta-feira\n",
    "\n",
    "\n",
    "c) Quinta-feira\n",
    "\n",
    "\n",
    "d) Sábado\n",
    "\n",
    "\n",
    "e) Domingo"
   ]
  },
  {
   "cell_type": "markdown",
   "metadata": {},
   "source": [
    "Como cada semana possui 7 dias, precisamos dividir 3000 por 7 e analisar o resto da divisão para sabermos qual é o dia da semana que cai o dia 3000:\n",
    "\n",
    "$$\n",
    "\\ \\ \\ 3000\\ |\\! \\underline{\\ \\ 7\\quad}\\\\\n",
    "\\underline{-28\\ }\\ \\ \\ \\ \\ \\ 428\\\\\n",
    "\\quad\\ 20\\\\\n",
    "\\ \\ \\underline{-14\\ }\\\\\n",
    "\\quad\\ \\ \\ 60\\\\\n",
    "\\quad\\underline{-56\\ }\\\\\n",
    "\\quad\\quad\\ \\underbrace4\n",
    "$$\n",
    " \n",
    "\n",
    "Ou seja, .\n",
    "\n",
    "Sendo assim, até o dia 3000 foram contadas 428 quintas-feiras e ainda correram mais 4 dias.\n",
    "\n",
    "A partir de quinta-feira, somando 4 dias chegamos em segunda-feira, que é a resposta da questão."
   ]
  }
 ],
 "metadata": {
  "kernelspec": {
   "display_name": "Julia 1.6.0",
   "language": "julia",
   "name": "julia-1.6"
  },
  "language_info": {
   "file_extension": ".jl",
   "mimetype": "application/julia",
   "name": "julia",
   "version": "1.6.0"
  }
 },
 "nbformat": 4,
 "nbformat_minor": 4
}
