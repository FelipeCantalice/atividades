{
 "cells": [
  {
   "cell_type": "markdown",
   "metadata": {},
   "source": [
    "Razão é uma DIVISÃO"
   ]
  },
  {
   "cell_type": "markdown",
   "metadata": {},
   "source": [
    "-------------------------------------------------------------------------------------------------------------------------------"
   ]
  },
  {
   "cell_type": "markdown",
   "metadata": {},
   "source": [
    "-------------------------------------------------------------------------------------------------------------------------------"
   ]
  },
  {
   "cell_type": "markdown",
   "metadata": {},
   "source": [
    "-------------------------------------------------------------------------------------------------------------------------------"
   ]
  },
  {
   "cell_type": "markdown",
   "metadata": {},
   "source": [
    "(IFPE 2017)  No vestibular 2017, o IFPE oferece 40 vagas para técnico em refrigeração e climatização na modalidade PROEJA no campus Recife. Suponha que 152 candidatos façam a inscrição para concorrer a essas 40 vagas.\n",
    "A razão candidatos/vaga para esse curso de técnico em refrigeração e climatização no campus Recife é de:\n",
    "\n",
    "a) 3,6.   \n",
    "\n",
    "b) 3,8.   \n",
    "\n",
    "c) 3,4.   \n",
    "\n",
    "d) 3,2.   \n",
    "\n",
    "e) 3,0.   "
   ]
  },
  {
   "cell_type": "markdown",
   "metadata": {},
   "source": [
    "152 candidatos fizeram a inscrição\n",
    "São 40 vagas\n",
    "\n",
    "Qual a razão?\n",
    "\n",
    "<b>RESPOSTA</b>\n",
    "\n",
    "Para o obter a relação candidato/vaga basta dividir o número de inscritos pelo número de vagas, logo:\n",
    "\n",
    "$$\n",
    "x = \\frac{152}{40}\n",
    "$$"
   ]
  },
  {
   "cell_type": "code",
   "execution_count": 2,
   "metadata": {},
   "outputs": [
    {
     "data": {
      "text/plain": [
       "3.8"
      ]
     },
     "execution_count": 2,
     "metadata": {},
     "output_type": "execute_result"
    }
   ],
   "source": [
    "x = 152/40\n",
    "x"
   ]
  },
  {
   "cell_type": "markdown",
   "metadata": {},
   "source": [
    "-------------------------------------------------------------------------------------------------------------------------------"
   ]
  },
  {
   "cell_type": "markdown",
   "metadata": {},
   "source": [
    "(UERJ 2018) Onça e libra são unidades de massa do sistema inglês. Sabe-se que 16 onças equivalem a 1 libra e que 0,4 onças é igual a x libras.\n",
    "\n",
    "O valor de x é igual a:"
   ]
  },
  {
   "cell_type": "markdown",
   "metadata": {},
   "source": [
    "$$\n",
    " \\frac{1}{16} * \\frac{x}{0.4} = (16x = 0.4) = 0.025\n",
    "$$"
   ]
  },
  {
   "cell_type": "code",
   "execution_count": 4,
   "metadata": {},
   "outputs": [
    {
     "data": {
      "text/plain": [
       "0.025"
      ]
     },
     "execution_count": 4,
     "metadata": {},
     "output_type": "execute_result"
    }
   ],
   "source": [
    "0.4/16.0"
   ]
  },
  {
   "cell_type": "markdown",
   "metadata": {},
   "source": [
    "-------------------------------------------------------------------------------------------------------------------------------"
   ]
  },
  {
   "cell_type": "markdown",
   "metadata": {},
   "source": [
    "(UTFPR 2014)  Em um exame de seleção concorreram 4800 candidatos para 240 vagas. A razão entre o número de vagas e o número de candidatos foi de:\n",
    "\n",
    "##### resposta\n",
    "\n",
    "$\n",
    "\\frac{4800}{240} = 20\n",
    "$\n",
    "\n",
    "ou por simplificação"
   ]
  },
  {
   "cell_type": "code",
   "execution_count": 5,
   "metadata": {},
   "outputs": [
    {
     "data": {
      "text/plain": [
       "20.0"
      ]
     },
     "execution_count": 5,
     "metadata": {},
     "output_type": "execute_result"
    }
   ],
   "source": [
    "4800 / 240"
   ]
  },
  {
   "cell_type": "markdown",
   "metadata": {},
   "source": [
    "-------------------------------------------------------------------------------------------------------------------------------"
   ]
  },
  {
   "cell_type": "markdown",
   "metadata": {},
   "source": [
    "(G1 - ifal 2018)  Uma máquina produz 100 unidades de um determinado produto em 4 dias. A empresa recebe uma encomenda de 3.000 unidades desse produto para ser entregue em 30 dias. Quantas máquinas devem ser usadas, no mínimo, para atender à encomenda no prazo dos 30 dias?\n",
    "\n",
    "a) 4.   \n",
    "\n",
    "b) 5.  \n",
    "\n",
    "c) 6.\n",
    "\n",
    "d) 7.\n",
    "\n",
    "e) 8."
   ]
  },
  {
   "cell_type": "markdown",
   "metadata": {},
   "source": [
    "Uma máquina produz 100 unidades em 4 dias\n",
    "\n",
    "Foi realizado uma encomenda de 3.000 unidades ser entregue em 30 dias.\n",
    "\n",
    "Quantas máquinas devem ser usadas, no mínimo para atender à encomenda no prazo dos 30 dias?\n",
    "\n",
    "\n",
    "##### resposta\n",
    "\n",
    "Em um 1 dia utilizando apenas 1 máquina é feito 25 unidades\n",
    "Com 1 máquina é feito 750 unidades, no perido de 30 dias\n",
    "então:\n",
    "\n",
    "$$\n",
    "    \\frac{1}{750} *  \\frac{x}{3000} = 4\n",
    "$$"
   ]
  },
  {
   "cell_type": "code",
   "execution_count": 10,
   "metadata": {},
   "outputs": [
    {
     "name": "stdout",
     "output_type": "stream",
     "text": [
      "É necessário 4.0 máquinas\n"
     ]
    }
   ],
   "source": [
    "println(\"É necessário $(3000/750) máquinas\")"
   ]
  },
  {
   "cell_type": "markdown",
   "metadata": {},
   "source": [
    "-------------------------------------------------------------------------------------------------------------------------------"
   ]
  },
  {
   "cell_type": "markdown",
   "metadata": {},
   "source": [
    "(G1 - cftmg 2019)  Uma determinada receita de pão leva uma xícara e meia de chá de farinha de trigo. Para medir esse ingrediente, dispõe-se apenas de uma colher de sopa. Considere que uma xícara de chá de farinha de trigo equivale a 168 gramas e uma colher de sopa, a 12 gramas.\n",
    "O número de colheres de sopa de farinha necessário para fazer essa receita é\n",
    "\n",
    "a) 15.   \n",
    "\n",
    "\n",
    "b) 18.   \n",
    "\n",
    "\n",
    "c) 19.   \n",
    "\n",
    "\n",
    "d) 21.   "
   ]
  },
  {
   "cell_type": "markdown",
   "metadata": {},
   "source": [
    "Uma determinada receita de pão leva uma xícara e meia de chá de farinha de trigo\n",
    "\n",
    "Uma xícara de chá de farinha de trigo equivale a 168 gramas.\n",
    "\n",
    "Uma colher de sopa equivale a 12 gramas.\n",
    "\n",
    "Qual é o número de colheres de sopa de farinha necessário para fazer essa receita?\n",
    "\n",
    "$$\n",
    "    \\frac{1}{12} * \\frac{x}{168}\n",
    "$$"
   ]
  },
  {
   "cell_type": "code",
   "execution_count": 15,
   "metadata": {},
   "outputs": [
    {
     "name": "stdout",
     "output_type": "stream",
     "text": [
      "14.0 colheres para preencher uma xicara\n",
      "7.0 colheres para preencher metade de xicara\n",
      "21 colheres para preencher uma xicara e meia\n"
     ]
    }
   ],
   "source": [
    "println(\"$(168/12) colheres para preencher uma xicara\")\n",
    "println(\"$(14/2) colheres para preencher metade de xicara\")\n",
    "println(\"$(14+7) colheres para preencher uma xicara e meia\")"
   ]
  },
  {
   "cell_type": "markdown",
   "metadata": {},
   "source": [
    "-------------------------------------------------------------------------------------------------------------------------------"
   ]
  },
  {
   "cell_type": "markdown",
   "metadata": {},
   "source": [
    "-------------------------------------------------------------------------------------------------------------------------------"
   ]
  },
  {
   "cell_type": "markdown",
   "metadata": {},
   "source": [
    "-------------------------------------------------------------------------------------------------------------------------------"
   ]
  }
 ],
 "metadata": {
  "kernelspec": {
   "display_name": "Julia 1.6.0",
   "language": "julia",
   "name": "julia-1.6"
  },
  "language_info": {
   "file_extension": ".jl",
   "mimetype": "application/julia",
   "name": "julia",
   "version": "1.6.0"
  }
 },
 "nbformat": 4,
 "nbformat_minor": 4
}
